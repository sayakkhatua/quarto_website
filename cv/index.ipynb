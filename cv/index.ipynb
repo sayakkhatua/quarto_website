{
  "cells": [
    {
      "cell_type": "raw",
      "metadata": {},
      "source": [
        "---\n",
        "title: Curriculum vitæ\n",
        "description: \"Sayak Khatua's CV\"\n",
        "date: 2025-01-28\n",
        "#title-block-banner: \"#771C6D\"\n",
        "published-title: CV last updated\n",
        "#engine: knitr\n",
        "freeze: false\n",
        "cv:\n",
        "  pdf: \"CV_2024.pdf\"\n",
        "---"
      ],
      "id": "da6896a1"
    },
    {
      "cell_type": "markdown",
      "metadata": {},
      "source": [
        "```{css, echo=FALSE}\n",
        "#title-block-header .description {\n",
        "    display: none;\n",
        "}\n",
        "```\n",
        "\n",
        "```{css echo=FALSE}\n",
        ".embed-container {\n",
        "    position: relative;\n",
        "    padding-bottom: 129%;\n",
        "    height: 0;\n",
        "    overflow: hidden;\n",
        "    max-width: 100%;\n",
        "}\n",
        "\n",
        ".embed-container iframe,\n",
        ".embed-container object,\n",
        ".embed-container embed {\n",
        "    position: absolute;\n",
        "    top: 0;\n",
        "    left: 0;\n",
        "    width: 100%;\n",
        "    height: 100%;\n",
        "}\n",
        "```\n",
        "\n",
        "```{=html}\n",
        "<p class=\"text-center\">\n",
        "  <a class=\"btn btn-primary btn-lg cv-download\" href=\"`r rmarkdown::metadata$cv$pdf`\" target=\"_blank\">\n",
        "    <i class=\"fa-solid fa-file-arrow-down\"></i>&ensp;Download current CV\n",
        "  </a>\n",
        "</p>\n",
        "\n",
        "<div class=\"embed-container\">\n",
        "  <iframe src=\"`r rmarkdown::metadata$cv$pdf`\" style=\"border: 0.5px\"></iframe>\n",
        "</div>\n",
        "```"
      ],
      "id": "2286b03b"
    }
  ],
  "metadata": {
    "kernelspec": {
      "display_name": "Python 3",
      "language": "python",
      "name": "python3"
    }
  },
  "nbformat": 4,
  "nbformat_minor": 5
}